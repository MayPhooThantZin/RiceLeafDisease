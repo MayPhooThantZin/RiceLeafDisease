{
 "cells": [
  {
   "cell_type": "code",
   "execution_count": null,
   "id": "c6a78907",
   "metadata": {},
   "outputs": [
    {
     "name": "stdout",
     "output_type": "stream",
     "text": [
      " * Serving Flask app '__main__'\n",
      " * Debug mode: on\n"
     ]
    },
    {
     "name": "stderr",
     "output_type": "stream",
     "text": [
      "WARNING: This is a development server. Do not use it in a production deployment. Use a production WSGI server instead.\n",
      " * Running on all addresses (0.0.0.0)\n",
      " * Running on http://127.0.0.1:5001\n",
      " * Running on http://10.101.155.213:5001\n",
      "Press CTRL+C to quit\n"
     ]
    }
   ],
   "source": [
    "from flask import Flask, request, jsonify\n",
    "import pickle\n",
    "import numpy as np\n",
    "from PIL import Image\n",
    "import io\n",
    "import cv2\n",
    "\n",
    "# Load the trained model\n",
    "with open('D:/Year5(Master)/3rd Sem/assignment/project/document/submission/model.pkl', 'rb') as f:\n",
    "    model = pickle.load(f)\n",
    "label = [\"Bacterial Leaf Blight\",\"Brown Spot\",\"Healthy\",\"Leaf Blast\",\"Leaf Scald\",\"Narrow Brown Spot\",\"Neck Blast\",\"Rice Hispa\",\"Sheath Blight\",\"Tungro\",]\n",
    "\n",
    "app = Flask(__name__)\n",
    "\n",
    "@app.route('/predict', methods=['POST'])\n",
    "def predict():\n",
    "    if 'image' not in request.files:\n",
    "        return jsonify({'error': 'No image provided'}), 400\n",
    "\n",
    "    image_file = request.files['image']\n",
    "    \n",
    "    try:\n",
    "        file_bytes = np.frombuffer(image_file.read(), np.uint8)\n",
    "        img = cv2.imdecode(file_bytes, cv2.IMREAD_COLOR)\n",
    "        img_rgb = cv2.cvtColor(img, cv2.COLOR_BGR2RGB)\n",
    "        img = cv2.resize(img, (128, 128))\n",
    "        img = img.astype(np.float32) / 255.0\n",
    "        img = np.expand_dims(img, axis=0)    \n",
    "        # Predict using the model\n",
    "        prediction = model.predict(img)\n",
    "        predicted_class = np.argmax(prediction)\n",
    "        print(\"Predicted class:\", predicted_class)\n",
    "        predicted_class_text = label[predicted_class]\n",
    "        print(predicted_class_text) \n",
    "        return jsonify({'prediction': str(predicted_class_text)})\n",
    "\n",
    "    except Exception as e:\n",
    "        print(e)\n",
    "        return jsonify({'error': str(e)}), 500\n",
    "\n",
    "# Start Flask app\n",
    "if __name__ == '__main__':\n",
    "    app.run(host='0.0.0.0', port=5001, debug=True, use_reloader=False)\n"
   ]
  }
 ],
 "metadata": {
  "kernelspec": {
   "display_name": "base",
   "language": "python",
   "name": "python3"
  },
  "language_info": {
   "codemirror_mode": {
    "name": "ipython",
    "version": 3
   },
   "file_extension": ".py",
   "mimetype": "text/x-python",
   "name": "python",
   "nbconvert_exporter": "python",
   "pygments_lexer": "ipython3",
   "version": "3.12.7"
  }
 },
 "nbformat": 4,
 "nbformat_minor": 5
}
